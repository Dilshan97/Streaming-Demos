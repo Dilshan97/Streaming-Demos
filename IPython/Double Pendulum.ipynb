{
 "metadata": {
  "name": ""
 },
 "nbformat": 3,
 "nbformat_minor": 0,
 "worksheets": [
  {
   "cells": [
    {
     "cell_type": "code",
     "collapsed": false,
     "input": [
      "import plotly\n",
      "import requests\n",
      "import time\n",
      "import json\n",
      "import math"
     ],
     "language": "python",
     "metadata": {},
     "outputs": [],
     "prompt_number": 1
    },
    {
     "cell_type": "code",
     "collapsed": false,
     "input": [
      "username = 'streaming-demos' # Fill in with your plotly username - sign up here: https://plot.ly/ssu\n",
      "api_key = '3yyglqsi85'# Fill in with your plotly API key - view here: https://plot.ly/api/key\n",
      "stream_token1 = '07l6swq34v' # Generate and fill in with a streaming token - view here: https://plot.ly/settings\n",
      "stream_token2 = 'oq0pfus4yq'\n",
      "stream_server = 'http://stream.plot.ly'"
     ],
     "language": "python",
     "metadata": {},
     "outputs": [],
     "prompt_number": 6
    },
    {
     "cell_type": "code",
     "collapsed": false,
     "input": [
      "# Initialize your plotly object\n",
      "p = plotly.plotly(username, api_key)"
     ],
     "language": "python",
     "metadata": {},
     "outputs": [],
     "prompt_number": 3
    },
    {
     "cell_type": "code",
     "collapsed": false,
     "input": [
      "# Code from http://matplotlib.org/examples/animation/double_pendulum_animated.html\n",
      "# Thx!\n",
      "\n",
      "from numpy import sin, cos, pi, array\n",
      "import numpy as np\n",
      "import scipy.integrate as integrate\n",
      "\n",
      "G =  9.8 # acceleration due to gravity, in m/s^2\n",
      "L1 = 1.0 # length of pendulum 1 in m\n",
      "L2 = 1.0 # length of pendulum 2 in m\n",
      "M1 = 1.0 # mass of pendulum 1 in kg\n",
      "M2 = 1.0 # mass of pendulum 2 in kg\n",
      "\n",
      "\n",
      "def derivs(state, t):\n",
      "\n",
      "    dydx = np.zeros_like(state)\n",
      "    dydx[0] = state[1]\n",
      "\n",
      "    del_ = state[2]-state[0]\n",
      "    den1 = (M1+M2)*L1 - M2*L1*cos(del_)*cos(del_)\n",
      "    dydx[1] = (M2*L1*state[1]*state[1]*sin(del_)*cos(del_)\n",
      "               + M2*G*sin(state[2])*cos(del_) + M2*L2*state[3]*state[3]*sin(del_)\n",
      "               - (M1+M2)*G*sin(state[0]))/den1\n",
      "\n",
      "    dydx[2] = state[3]\n",
      "\n",
      "    den2 = (L2/L1)*den1\n",
      "    dydx[3] = (-M2*L2*state[3]*state[3]*sin(del_)*cos(del_)\n",
      "               + (M1+M2)*G*sin(state[0])*cos(del_)\n",
      "               - (M1+M2)*L1*state[1]*state[1]*sin(del_)\n",
      "               - (M1+M2)*G*sin(state[2]))/den2\n",
      "\n",
      "    return dydx\n",
      "\n",
      "# th1 and th2 are the initial angles (degrees)\n",
      "# w10 and w20 are the initial angular velocities (degrees per second)\n",
      "th1 = 120.0\n",
      "w1 = 0.0\n",
      "th2 = -10.0\n",
      "w2 = 0.0\n",
      "\n",
      "rad = pi/180"
     ],
     "language": "python",
     "metadata": {},
     "outputs": [],
     "prompt_number": 4
    },
    {
     "cell_type": "code",
     "collapsed": false,
     "input": [
      "def axes(range):\n",
      "    return {\n",
      "          \"autotick\" : True,\n",
      "          \"showgrid\" : False,\n",
      "          \"showline\" : False,\n",
      "          \"zeroline\" : False,\n",
      "          \"ticks\": '',  \n",
      "          \"range\": range\n",
      "    }\n",
      "p.iplot([{'x': [], 'y': [], 'type': 'scatter', 'mode': 'lines', \n",
      "          'line': {'opacity': 0.8},\n",
      "          'stream': {'token': stream_token1, 'maxpoints': 100}}],\n",
      "        layout = {'xaxis': axes([-2, 2]), 'yaxis': axes([-2, 0.5]), 'title': 'Double Pendulum Simulation'},\n",
      "        filename='streaming double pendulum', fileopt='overwrite')"
     ],
     "language": "python",
     "metadata": {},
     "outputs": [
      {
       "html": [
        "<iframe height=\"500\" id=\"igraph\" scrolling=\"no\" seamless=\"seamless\" src=\"https://plot.ly/~streaming-demos/4/600/450\" width=\"650\"></iframe>"
       ],
       "metadata": {},
       "output_type": "pyout",
       "prompt_number": 36,
       "text": [
        "<IPython.core.display.HTML at 0x1051e7790>"
       ]
      }
     ],
     "prompt_number": 36
    },
    {
     "cell_type": "code",
     "collapsed": false,
     "input": [
      "def generate_data():\n",
      "    # initial state\n",
      "    state = np.array([th1, w1, th2, w2])*pi/180.\n",
      "    while True:\n",
      "        # create a time array from 0..100 sampled at 0.1 second steps\n",
      "        dt = 0.05\n",
      "        t = np.arange(0.0, 20, dt)\n",
      "        y = integrate.odeint(derivs, state, t)\n",
      "        x1 = L1*sin(y[:,0])\n",
      "        y1 = -L1*cos(y[:,0])\n",
      "\n",
      "        x2 = L2*sin(y[:,2]) + x1\n",
      "        y2 = -L2*cos(y[:,2]) + y1\n",
      "        for (x1i, y1i, x2i, y2i) in zip(x1, y1, x2, y2):\n",
      "            yield json.dumps({'x': x2i, 'y': y2i})+'\\n'\n",
      "            time.sleep(0.5)\n",
      "        state = np.array([y[-1,0], y[-1, 1], y[-1, 2], y[-1, 3]])\n",
      "            \n",
      "requests.post(stream_server,\n",
      "    data=generate_data(),\n",
      "    headers = {'plotly-streamtoken': stream_token1})"
     ],
     "language": "python",
     "metadata": {},
     "outputs": [],
     "prompt_number": "*"
    },
    {
     "cell_type": "code",
     "collapsed": false,
     "input": [],
     "language": "python",
     "metadata": {},
     "outputs": []
    }
   ],
   "metadata": {}
  }
 ]
}