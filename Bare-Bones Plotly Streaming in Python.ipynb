{
 "metadata": {
  "name": ""
 },
 "nbformat": 3,
 "nbformat_minor": 0,
 "worksheets": [
  {
   "cells": [
    {
     "cell_type": "code",
     "collapsed": false,
     "input": [
      "import requests\n",
      "import plotly\n",
      "import json\n",
      "import time\n",
      "from math import cos, sin"
     ],
     "language": "python",
     "metadata": {},
     "outputs": [],
     "prompt_number": 1
    },
    {
     "cell_type": "code",
     "collapsed": false,
     "input": [
      "username = 'streaming-demos' # Fill in with your plotly username - sign up here: https://plot.ly/ssu\n",
      "api_key = '3yyglqsi85'# Fill in with your plotly API key - view here: https://plot.ly/api/key\n",
      "stream_token = 'ct8pa6ekit' # Generate and fill in with a streaming token - view here: https://plot.ly/settings\n",
      "stream_server = 'http://stream.plot.ly'"
     ],
     "language": "python",
     "metadata": {},
     "outputs": [],
     "prompt_number": 2
    },
    {
     "cell_type": "code",
     "collapsed": false,
     "input": [
      "# Initialize your plotly object\n",
      "p = plotly.plotly(username, api_key)"
     ],
     "language": "python",
     "metadata": {},
     "outputs": [],
     "prompt_number": 3
    },
    {
     "cell_type": "code",
     "collapsed": false,
     "input": [
      "# Initialize your stream with a REST API call\n",
      "# Embed the stream token in one of the traces of a plotly-data object - one token per trace\n",
      "# Also embed 'maxpoints', the number of points that you want plotted\n",
      "p.iplot([{'x': [], 'y': [], 'type': 'scatter',\n",
      "            'stream': {'token': stream_token, 'maxpoints': 100}\n",
      "          }], layout={'xaxis': {'range':[-1,1]}, 'yaxis': {'range': [-1,1]}}, filename='Stream Example', fileopt='overwrite')"
     ],
     "language": "python",
     "metadata": {},
     "outputs": [
      {
       "html": [
        "<iframe height=\"500\" id=\"igraph\" scrolling=\"no\" seamless=\"seamless\" src=\"https://plot.ly/~streaming-demos/1/600/450\" width=\"650\"></iframe>"
       ],
       "metadata": {},
       "output_type": "pyout",
       "prompt_number": 4,
       "text": [
        "<IPython.core.display.HTML at 0x102c56f10>"
       ]
      }
     ],
     "prompt_number": 4
    },
    {
     "cell_type": "code",
     "collapsed": false,
     "input": [
      "# Now stream! Pass in a generator to a requests.post\n",
      "# This generator is a function that \"yields\" a JSON object\n",
      "def gen():\n",
      "    i=0\n",
      "    k = 5\n",
      "    while True:\n",
      "        i+=1\n",
      "        time.sleep(0.05)\n",
      "        yield json.dumps({'x': cos(k*i/50.)*sin(i/50.), 'y': cos(k*i/50.)*cos(i/50.)}) + '\\n'\n",
      "        \n",
      "requests.post(stream_server,\n",
      "    data=gen(),\n",
      "    headers = {'plotly-streamtoken': stream_token, 'connection': 'keep-alive'})"
     ],
     "language": "python",
     "metadata": {},
     "outputs": [],
     "prompt_number": "*"
    },
    {
     "cell_type": "code",
     "collapsed": false,
     "input": [],
     "language": "python",
     "metadata": {},
     "outputs": []
    }
   ],
   "metadata": {}
  }
 ]
}