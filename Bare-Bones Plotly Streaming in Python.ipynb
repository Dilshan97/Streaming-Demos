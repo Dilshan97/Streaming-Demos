{
 "metadata": {
  "name": ""
 },
 "nbformat": 3,
 "nbformat_minor": 0,
 "worksheets": [
  {
   "cells": [
    {
     "cell_type": "code",
     "collapsed": false,
     "input": [
      "import requests\n",
      "import plotly\n",
      "import json\n",
      "import time\n",
      "from math import cos, sin\n",
      "api_key = '0076me95gd'\n",
      "stream_token = 'YJX8j6sUsA'\n",
      "stream_server = 'http://ec2-23-22-11-102.compute-1.amazonaws.com:10101'"
     ],
     "language": "python",
     "metadata": {},
     "outputs": [],
     "prompt_number": 2
    },
    {
     "cell_type": "code",
     "collapsed": false,
     "input": [
      "p = plotly.plotly('Urban-Data-Challenge', api_key)\n",
      "p.ioff()"
     ],
     "language": "python",
     "metadata": {},
     "outputs": [],
     "prompt_number": 3
    },
    {
     "cell_type": "code",
     "collapsed": false,
     "input": [
      "# Embed the stream token in one of the traces of a plotly-data object - one token per trace\n",
      "p.plot([{'stream': {'token': stream_token, 'maxpoints': 1}}], filename='Bare-Bones Stream Example', fileopt='overwrite')"
     ],
     "language": "python",
     "metadata": {},
     "outputs": [
      {
       "metadata": {},
       "output_type": "pyout",
       "prompt_number": 5,
       "text": [
        "{u'error': u'',\n",
        " u'filename': u'Bare-Bones Stream Example',\n",
        " u'message': u'',\n",
        " u'url': u'https://plot.ly/~Urban-Data-Challenge/1',\n",
        " u'warning': u''}"
       ]
      }
     ],
     "prompt_number": 5
    },
    {
     "cell_type": "code",
     "collapsed": false,
     "input": [
      "# Now stream! Pass in a generator to a requests.post\n",
      "def gen():\n",
      "    i=0\n",
      "    while True:\n",
      "        i+=1\n",
      "        time.sleep(0.05)\n",
      "        yield json.dumps({'x': cos(i/100.), 'y': sin(i/100.)}) + '\\n'\n",
      "        \n",
      "requests.post(stream_server,\n",
      "    data=gen(),\n",
      "    headers = {'plotly-streamtoken': 'YJX8j6sUsA', 'connection': 'keep-alive'})"
     ],
     "language": "python",
     "metadata": {},
     "outputs": [],
     "prompt_number": "*"
    },
    {
     "cell_type": "code",
     "collapsed": false,
     "input": [],
     "language": "python",
     "metadata": {},
     "outputs": []
    }
   ],
   "metadata": {}
  }
 ]
}