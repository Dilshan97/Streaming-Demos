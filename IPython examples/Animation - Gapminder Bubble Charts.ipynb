{
 "metadata": {
  "name": ""
 },
 "nbformat": 3,
 "nbformat_minor": 0,
 "worksheets": [
  {
   "cells": [
    {
     "cell_type": "code",
     "collapsed": false,
     "input": [
      "import plotly\n",
      "import requests\n",
      "import time\n",
      "import json\n",
      "import math"
     ],
     "language": "python",
     "metadata": {},
     "outputs": [],
     "prompt_number": 1
    },
    {
     "cell_type": "code",
     "collapsed": false,
     "input": [
      "with open('./config.json') as data_file:    \n",
      "    data = json.load(data_file)\n",
      "config = \n",
      "\n",
      "username = 'streaming-demos' # Fill in with your plotly username - sign up here: https://plot.ly/ssu\n",
      "api_key = '3yyglqsi85'# Fill in with your plotly API key - view here: https://plot.ly/api/key\n",
      "stream_token = 'ql85ed3g53' # Generate and fill in with a streaming token - view here: https://plot.ly/settings\n",
      "stream_server = 'http://stream.plot.ly'"
     ],
     "language": "python",
     "metadata": {},
     "outputs": [],
     "prompt_number": 2
    },
    {
     "cell_type": "code",
     "collapsed": false,
     "input": [
      "# Initialize your plotly object\n",
      "p = plotly.plotly(username, api_key)"
     ],
     "language": "python",
     "metadata": {},
     "outputs": [],
     "prompt_number": 3
    },
    {
     "cell_type": "code",
     "collapsed": false,
     "input": [
      "# Embed the stream token in one of the traces of a plotly-data object - one token per trace\n",
      "country_colors = {'Asia': '#1b9e77', \n",
      "        'Middle East and North Africa': '#d95f02', \n",
      "        'Europe': '#7570b3', \n",
      "        'North America': '#e7298a',\n",
      "        'Central America and the Caribbean': '#66a61e',\n",
      "        'South America': '#e6ab02',\n",
      "        'Sub-Saharan Africa': '#a6761d',\n",
      "        'Oceania': '#666666'}\n",
      "cc = country_colors.items()\n",
      "axes = {\n",
      "    'showgrid': False,\n",
      "    'showline': False,\n",
      "    'ticks': '',\n",
      "    'zeroline': False,\n",
      "    'titlefont': {'size': 16, 'color': 'rgb(67,67,67)'},\n",
      "    'tickfont': {'size': 13, 'color': 'rgb(67,67,67)'}\n",
      "}\n",
      "xaxis = dict({'range': [0, 5e4], 'type': 'log', 'title': 'GDP per Capita'}.items() + axes.items())\n",
      "yaxis = dict({'range': [30, 83], 'title': 'Life Expectancy', 'exponentformat': 'power'}.items() + axes.items())\n",
      "\n",
      "hidden = {'showlegend': True, 'x':[0], 'y':[0], \n",
      "          'mode': 'markers', 'marker': {}}\n",
      "\n",
      "p.iplot([{\n",
      "            'x':[],\n",
      "            'y':[],\n",
      "            'text':[],\n",
      "            'mode': 'markers',\n",
      "            'marker': {\n",
      "                'sizemode': 'area',\n",
      "                'sizeref': 200000,#0.05,\n",
      "                'opacity': 0.55,\n",
      "                'line': {\n",
      "                    'width': 1,\n",
      "                    'color': 'white'\n",
      "                }\n",
      "            },\n",
      "            'showlegend': False,\n",
      "            'stream': {\n",
      "                'token': stream_token, 'maxpoints': 29\n",
      "            }},\n",
      "        dict(hidden.items()+{'name': cc[0][0], 'marker': {'color':cc[0][1],'size': 20,'opacity': 0.55}}.items()),\n",
      "        dict(hidden.items()+{'name': cc[1][0], 'marker': {'color':cc[1][1],'size': 20,'opacity': 0.55}}.items()),\n",
      "        dict(hidden.items()+{'name': cc[2][0], 'marker': {'color':cc[2][1],'size': 20,'opacity': 0.55}}.items()),\n",
      "        dict(hidden.items()+{'name': cc[3][0], 'marker': {'color':cc[3][1],'size': 20,'opacity': 0.55}}.items()),\n",
      "        dict(hidden.items()+{'name': cc[4][0], 'marker': {'color':cc[4][1],'size': 20,'opacity': 0.55}}.items()),\n",
      "        dict(hidden.items()+{'name': cc[5][0], 'marker': {'color':cc[5][1],'size': 20,'opacity': 0.55}}.items()),\n",
      "        dict(hidden.items()+{'name': cc[6][0], 'marker': {'color':cc[6][1],'size': 20,'opacity': 0.55}}.items()),\n",
      "        dict(hidden.items()+{'name': cc[7][0], 'marker': {'color':cc[7][1],'size': 20,'opacity': 0.55}}.items())    \n",
      "        ],\n",
      "    layout={\n",
      "        'xaxis': xaxis,\n",
      "        'yaxis': yaxis,\n",
      "        'titlefont':{'size': 32, 'color': 'rgb(67,67,67)'},\n",
      "        'legend': {\n",
      "            'bgcolor': 'rgba(255, 255, 255, 0)',\n",
      "            'bordercolor': 'rgba(255, 255, 255, 0)',\n",
      "            'fontcolor': 'rgb(67, 67, 67)',\n",
      "            'size': 13,\n",
      "            'x': 100,\n",
      "            'y': 0.95\n",
      "        }  \n",
      "    },\n",
      "    filename='Hans Rosling Streaming', fileopt='overwrite', width=1000, height=700)"
     ],
     "language": "python",
     "metadata": {},
     "outputs": [
      {
       "html": [
        "<iframe height=\"750\" id=\"igraph\" scrolling=\"no\" seamless=\"seamless\" src=\"https://plot.ly/~streaming-demos/3/1000/700\" width=\"1050\"></iframe>"
       ],
       "metadata": {},
       "output_type": "pyout",
       "prompt_number": 9,
       "text": [
        "<IPython.core.display.HTML at 0x104baa190>"
       ]
      }
     ],
     "prompt_number": 9
    },
    {
     "cell_type": "code",
     "collapsed": false,
     "input": [
      "def readjson(url):\n",
      "    import urllib2, StringIO, json\n",
      "    response = urllib2.urlopen(url).read()\n",
      "    data = json.loads(response)\n",
      "    return data\n",
      "\n",
      "data = readjson(\"https://gist.githubusercontent.com/chriddyp/9167305/raw/db58a28b2144121cbf694ab1b8f73b142b96a464/gapminder.json\")"
     ],
     "language": "python",
     "metadata": {},
     "outputs": [],
     "prompt_number": 10
    },
    {
     "cell_type": "code",
     "collapsed": false,
     "input": [
      "print data.keys()[0:10]"
     ],
     "language": "python",
     "metadata": {},
     "outputs": [
      {
       "output_type": "stream",
       "stream": "stdout",
       "text": [
        "[u'Canada', u'Brazil', u'Sao Tome and Principe', u'Guernsey', u'Turkmenistan', u'Saint Helena', u'Serbia and Montenegro', u'Ireland', u'Lithuania', u'Cambodia']\n"
       ]
      }
     ],
     "prompt_number": 11
    },
    {
     "cell_type": "code",
     "collapsed": false,
     "input": [
      "print data['Canada'].keys()"
     ],
     "language": "python",
     "metadata": {},
     "outputs": [
      {
       "output_type": "stream",
       "stream": "stdout",
       "text": [
        "[u'gdp', u'lifeExp', u'continent', u'pop', u'years']\n"
       ]
      }
     ],
     "prompt_number": 12
    },
    {
     "cell_type": "code",
     "collapsed": false,
     "input": [
      "print data['Canada']['gdp'][0:10]"
     ],
     "language": "python",
     "metadata": {},
     "outputs": [
      {
       "output_type": "stream",
       "stream": "stdout",
       "text": [
        "[10581.265520182, 10932.4667838283, 11367.1611248765, 11586.6145455354, 11173.2594978109, 11901.5094889284, 12555.5494657206, 12489.9500550468, 12384.4101756439, 12590.8003302521]\n"
       ]
      }
     ],
     "prompt_number": 13
    },
    {
     "cell_type": "code",
     "collapsed": false,
     "input": [
      "# interpolate the raw data - insert 3 values between every year\n",
      "import numpy as np\n",
      "years = np.linspace(1950, 2007, (2007-1950)*3+1)\n",
      "for country in data:\n",
      "    if len(data[country]['years'])>0:\n",
      "        x = np.linspace(data[country]['years'][0], \n",
      "                        data[country]['years'][-1], \n",
      "                        (data[country]['years'][-1] - data[country]['years'][0])*12+1)\n",
      "        data[country]['gdp'] = np.interp(x, data[country]['years'], data[country]['gdp'])\n",
      "        data[country]['lifeExp'] = np.interp(x, data[country]['years'], data[country]['lifeExp'])\n",
      "        data[country]['pop'] = np.interp(x, data[country]['years'], data[country]['pop'])    \n",
      "        data[country]['years'] = x        "
     ],
     "language": "python",
     "metadata": {},
     "outputs": [],
     "prompt_number": 15
    },
    {
     "cell_type": "code",
     "collapsed": false,
     "input": [
      "def gen():\n",
      "    yearCnt = 0\n",
      "    continent_colors = {'Asia': '#1b9e77', \n",
      "        'Middle East, North Africa, and Greater Arabia': '#d95f02', \n",
      "        'Europe': '#7570b3', \n",
      "        'North America': '#e7298a',\n",
      "        'Central America and the Caribbean': '#66a61e',\n",
      "        'South America': '#e6ab02',\n",
      "        'Sub-Saharan Africa': '#a6761d',\n",
      "        'Oceania': '#666666'}\n",
      "    while True:\n",
      "        year = years[yearCnt%len(years)]\n",
      "        graph = {   'x': [],\n",
      "                    'y': [],\n",
      "                    'text': [],\n",
      "                    'marker': {\n",
      "                        'size': [],\n",
      "                        'color': []\n",
      "                    }\n",
      "                }\n",
      "\n",
      "        for country in data:\n",
      "            i = np.where(data[country]['years']==year)[0]\n",
      "            if len(i)>0:\n",
      "                graph['x'].extend(data[country]['gdp'][i])\n",
      "                graph['y'].extend(data[country]['lifeExp'][i])\n",
      "                graph['marker']['size'].extend(data[country]['pop'][i])\n",
      "                graph['text'].append(country)\n",
      "                graph['marker']['color'].append(continent_colors[data[country]['continent']])\n",
      "\n",
      "        if year%1 == 0:\n",
      "            graph['layout'] = {'title': str(int(year))}\n",
      "            #pass\n",
      "        \n",
      "        d = json.dumps(graph)\n",
      "        yield d + '\\n'\n",
      "        time.sleep(.5)\n",
      "        yearCnt+=1\n",
      "        \n",
      "requests.post(stream_server,\n",
      "    data=gen(),\n",
      "    headers = {'plotly-streamtoken': stream_token, 'connection': 'keep-alive'})"
     ],
     "language": "python",
     "metadata": {},
     "outputs": [],
     "prompt_number": "*"
    },
    {
     "cell_type": "code",
     "collapsed": false,
     "input": [],
     "language": "python",
     "metadata": {},
     "outputs": []
    }
   ],
   "metadata": {}
  }
 ]
}